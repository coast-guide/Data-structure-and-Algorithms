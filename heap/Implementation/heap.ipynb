{
 "cells": [
  {
   "cell_type": "markdown",
   "metadata": {},
   "source": [
    "# Heap Implementation"
   ]
  },
  {
   "cell_type": "markdown",
   "metadata": {},
   "source": [
    "## Heap Representation ( Complete Binary Tree)"
   ]
  },
  {
   "cell_type": "markdown",
   "metadata": {},
   "source": [
    "### Formulas"
   ]
  },
  {
   "cell_type": "markdown",
   "metadata": {},
   "source": [
    "We can represent complete binary tree in an array.\n",
    "* left_child_index = 2 * i + 1\n",
    "* right_child_index = 2 * i + 2\n",
    "* parent_index = Floor[ (index - 1) / 2 ]"
   ]
  },
  {
   "cell_type": "code",
   "execution_count": 2,
   "metadata": {},
   "outputs": [],
   "source": [
    "class MinHeap:\n",
    "    def __init__(self, capacity):\n",
    "        self.storage = [0] * capacity\n",
    "        self.capacity = capacity\n",
    "        self.size = 0\n",
    "\n",
    "    # * Helper Methods\n",
    "    def getParentIndex(self, index):\n",
    "        return (index-1)//2\n",
    "\n",
    "    def getLeftChildIndex(self, index):\n",
    "        return 2*index + 1\n",
    "\n",
    "    def getRightChildIndex(self, index):\n",
    "        return 2*index + 2\n",
    "\n",
    "    def hasParent(self, index):\n",
    "        return self.getParentIndex(index) >= 0\n",
    "\n",
    "    def hasLeftChild(self, index):\n",
    "        return self.getLeftChildIndex(index) < self.size\n",
    "\n",
    "    def hasRightChild(self, index):\n",
    "        return self.getRightChildIndex(index) < self.size\n",
    "\n",
    "    def parent(self, index):\n",
    "        return self.storage[self.getParentIndex(index)]\n",
    "\n",
    "    def leftChild(self, index):\n",
    "        return self.storage[self.getLeftChildIndex(index)]\n",
    "\n",
    "    def rightChild(self, index):\n",
    "        return self.storage[self.getRightChildIndex(index)]\n",
    "\n",
    "    def isFull(self):\n",
    "        return self.size == self.capacity\n",
    "\n",
    "    def swap(self, index1, index2):\n",
    "        self.storage[index1], self.storage[index2] = self.storage[index2], self.storage[index1]\n",
    "\n",
    "    # * Heapify\n",
    "    # ? Heapify Up\n",
    "\n",
    "    def heapifyUp(self):\n",
    "        index = self.size - 1\n",
    "        while self.hasParent(index) and self.storage[index] < self.parent(index):\n",
    "            self.swap(self.getParentIndex(index), index)\n",
    "            index = self.getParentIndex(index)\n",
    "\n",
    "    def heapifyUpRecursive(self, index):\n",
    "        if self.hasParent(index) and self.storage[index] < self.parent(index):\n",
    "            self.swap(self.getParentIndex(index), index)\n",
    "            self.heapifyUpRecursive(self.getParentIndex(index))\n",
    "\n",
    "    # ? Heapify Down\n",
    "    def heapifyDown(self):\n",
    "        index = 0\n",
    "        while self.hasLeftChild(index):\n",
    "            smallestIndex = self.getLeftChildIndex(index)\n",
    "\n",
    "            if self.hasRightChild(index) and self.rightChild(index) < self.leftChild(index):\n",
    "                smallestIndex = self.getRightChildIndex(index)\n",
    "\n",
    "            if self.storage[index] < self.storage[smallestIndex]:\n",
    "                break\n",
    "            else:\n",
    "                self.swap(index, smallestIndex)\n",
    "            index = smallestIndex\n",
    "\n",
    "    def heapifyDownRecursive(self, index):\n",
    "        if self.hasLeftChild(index):\n",
    "            smallestIndex = self.getLeftChildIndex(index)\n",
    "            if self.hasRightChild(index) and self.rightChild(index) < self.leftChild(index):\n",
    "                smallestIndex = self.getRightChildIndex(index)\n",
    "\n",
    "            if index != smallestIndex:\n",
    "                self.swap(index, smallestIndex)\n",
    "                self.heapifyDownRecursive(smallestIndex)\n",
    "\n",
    "    # * Insertion\n",
    "    def insert(self, data):\n",
    "        if self.isFull():\n",
    "            raise \"Heap is Full\"\n",
    "\n",
    "        self.storage[self.size] = data\n",
    "        self.size += 1\n",
    "        self.heapifyUp()\n",
    "\n",
    "    # * Remove Minimum element\n",
    "    def removeMin(self):\n",
    "        if self.size == 0:\n",
    "            raise (\"Empty heap\")\n",
    "\n",
    "        data = self.storage[0]\n",
    "        self.storage[0] = self.storage[self.size - 1]\n",
    "        self.size -= 1\n",
    "        self.heapifyDown()\n",
    "        return data\n"
   ]
  },
  {
   "cell_type": "markdown",
   "metadata": {},
   "source": [
    "## Insertion\n",
    "### Always insert at leftmost available position. Then heapify.\n",
    "* arr[size - 1] = element\n",
    "* heapifyUp()"
   ]
  },
  {
   "cell_type": "markdown",
   "metadata": {},
   "source": [
    "## Deletion\n",
    "* swap arr[0] with arr[size - 1]\n",
    "* do size -= 1\n",
    "* heapifyDown()"
   ]
  },
  {
   "cell_type": "code",
   "execution_count": 7,
   "metadata": {},
   "outputs": [
    {
     "name": "stdout",
     "output_type": "stream",
     "text": [
      "-10\n"
     ]
    }
   ],
   "source": [
    "if __name__ == '__main__':\n",
    "    mh = MinHeap(30)\n",
    "    mh.insert(40)\n",
    "    mh.insert(-10)\n",
    "    mh.insert(0)\n",
    "    mh.insert(70)\n",
    "    print(mh.removeMin())\n"
   ]
  }
 ],
 "metadata": {
  "kernelspec": {
   "display_name": "Python 3.10.5 ('DSA-DCGx1ixI')",
   "language": "python",
   "name": "python3"
  },
  "language_info": {
   "codemirror_mode": {
    "name": "ipython",
    "version": 3
   },
   "file_extension": ".py",
   "mimetype": "text/x-python",
   "name": "python",
   "nbconvert_exporter": "python",
   "pygments_lexer": "ipython3",
   "version": "3.10.5"
  },
  "orig_nbformat": 4,
  "vscode": {
   "interpreter": {
    "hash": "c70f972eea8ef863c0daa148f3065e871049bc9fc6700074131688f991b3ce20"
   }
  }
 },
 "nbformat": 4,
 "nbformat_minor": 2
}
